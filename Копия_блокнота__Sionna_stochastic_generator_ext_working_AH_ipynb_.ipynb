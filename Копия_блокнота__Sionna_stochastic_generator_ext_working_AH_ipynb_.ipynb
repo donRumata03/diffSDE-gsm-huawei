{
 "nbformat": 4,
 "nbformat_minor": 0,
 "metadata": {
  "colab": {
   "provenance": [],
   "gpuType": "V28"
  },
  "kernelspec": {
   "name": "python3",
   "display_name": "Python 3 (ipykernel)",
   "language": "python"
  },
  "language_info": {
   "name": "python"
  },
  "accelerator": "TPU"
 },
 "cells": [
  {
   "cell_type": "markdown",
   "source": [
    "Как водится в продакшен-реди решениях на тензорфлоу надо перезапустить среду каждый раз после установки нового пакета - это не ошибка."
   ],
   "metadata": {
    "id": "xHkTOQHDAh9F"
   }
  },
  {
   "cell_type": "code",
   "source": "#!pip install --upgrade numpy tensorflow",
   "metadata": {
    "id": "k2kq1a-wUUog",
    "colab": {
     "base_uri": "https://localhost:8080/",
     "height": 1000
    },
    "outputId": "fd8ff91d-a709-4009-84fe-ca844cf5f6b7",
    "ExecuteTime": {
     "end_time": "2025-09-17T18:29:49.094173Z",
     "start_time": "2025-09-17T18:29:49.077171Z"
    }
   },
   "outputs": [],
   "execution_count": 17
  },
  {
   "cell_type": "markdown",
   "source": [
    "## **Load the required libraries**"
   ],
   "metadata": {
    "id": "BRF0SrAZ5k7A"
   }
  },
  {
   "cell_type": "code",
   "source": "#!pip install sionna",
   "metadata": {
    "id": "tKJPAqGUUazJ",
    "outputId": "3b94b8d0-9d54-4486-a851-ae3eef061613",
    "colab": {
     "base_uri": "https://localhost:8080/",
     "height": 1000
    },
    "ExecuteTime": {
     "end_time": "2025-09-17T18:29:49.171180Z",
     "start_time": "2025-09-17T18:29:49.153177Z"
    }
   },
   "outputs": [],
   "execution_count": 18
  },
  {
   "cell_type": "code",
   "metadata": {
    "id": "9FcY1lKfvqB5",
    "ExecuteTime": {
     "end_time": "2025-09-17T18:29:49.202181Z",
     "start_time": "2025-09-17T18:29:49.182179Z"
    }
   },
   "source": [
    "# You may install the required libraries from https://nvlabs.github.io/sionna/installation.html\n",
    "# or generate channel here in google colab\n",
    "# ---------------------------------------------------------------------------------------------\n",
    "# Load the required libraries\n",
    "import numpy as np\n",
    "import matplotlib.pyplot as plt\n",
    "\n",
    "try:\n",
    "    import sionna\n",
    "except ImportError as e:\n",
    "    # Install Sionna if package is not already installed\n",
    "    import os\n",
    "    os.system(\"pip install sionna\")\n",
    "    import sionna\n",
    "# Configure the notebook to use only a single GPU and allocate only as much memory as needed\n",
    "# For more details, see https://www.tensorflow.org/guide/gpu\n",
    "import tensorflow as tf\n",
    "gpus = tf.config.list_physical_devices('GPU')\n",
    "if gpus:\n",
    "    try:\n",
    "        tf.config.experimental.set_memory_growth(gpus[0], True)\n",
    "    except RuntimeError as e:\n",
    "        print(e)\n",
    "tf.get_logger().setLevel('ERROR')\n",
    "from sionna.phy.channel.tr38901 import Antenna, AntennaArray, UMa, UMi, RMa\n",
    "from sionna.phy.channel import subcarrier_frequencies, cir_to_ofdm_channel, gen_single_sector_topology\n",
    "from sionna.phy.ofdm import ResourceGrid"
   ],
   "outputs": [],
   "execution_count": 19
  },
  {
   "cell_type": "markdown",
   "source": [
    "## **Configiration parameters**"
   ],
   "metadata": {
    "id": "oJbui4Ox5aU2"
   }
  },
  {
   "cell_type": "code",
   "source": [
    "# ===========================\n",
    "# 1️⃣ Define BS & UE Parameters\n",
    "# ===========================\n",
    "num_bs = 1  # Number of Base Stations\n",
    "num_ue = 20  # Number of User Equipments   уменьшила до 20\n",
    "num_ue_ant = 4  # UE MIMO Antennas\n",
    "batch_size = 40  # Number of parallel simulations   уменьшила до 4\n",
    "scenario = \"UMa\"  # Urban Macro (Can be \"UMa\", \"UMi\", \"RMa\")\n",
    "min_bs_ut_dist = 100 # Minimum BS-UE distance in meters\n",
    "ISD = 500 # Inter-Site Distance\n",
    "bs_height = 25 # BS height in meters\n",
    "ut_height = 1.5 # UE height in meters\n",
    "UE_speed = 0.83 # UE speed in meters/second\n",
    "\n",
    "# ===========================\n",
    "# 2️⃣ Define Resource Grid\n",
    "# ===========================\n",
    "carrier_frequency = 3.5e9  # 2.14 or 3.5 GHz (mid-band 5G)\n",
    "fft_size = 256  # FFT Size   уменьшила до 256\n",
    "sc_spacing = 30e3  # Subcarrier Spacing (30 kHz for FR1)\n",
    "num_ofdm_symbols = 1  # OFDM symbols per slot\n",
    "\n",
    "# ===========================\n",
    "# 3️⃣ Define Antenna Array Configurations\n",
    "# ===========================\n",
    "bs_array = AntennaArray(\n",
    "    num_rows=4, # number of rows in BS antenna array\n",
    "    num_cols=8, # number of columns in BS antenna array\n",
    "    polarization=\"dual\", # \"single\" or \"dual\"\n",
    "    polarization_type=\"cross\", # for single polarization, must be \"V\" or \"H\". For dual polarization, must be \"VH\" or \"cross\"\n",
    "    antenna_pattern=\"38.901\", # \"omni\" or \"38.901\"\n",
    "    carrier_frequency=carrier_frequency,\n",
    "    vertical_spacing=0.9, # 0.9-wavelength spacing between vertical antenna elements\n",
    "    horizontal_spacing=0.5 # Half-wavelength spacing between horizontal antenna elements\n",
    ")\n",
    "\n",
    "ue_array = AntennaArray(\n",
    "    num_rows=1, # number of rows in UE antenna array\n",
    "    num_cols=2, # number of columns in UE antenna array\n",
    "    polarization=\"dual\", # \"single\" or \"dual\"\n",
    "    polarization_type=\"cross\", # for single polarization, must be \"V\" or \"H\". For dual polarization, must be \"VH\" or \"cross\"\n",
    "    antenna_pattern=\"38.901\", # \"omni\" or \"38.901\"\n",
    "    carrier_frequency=carrier_frequency,\n",
    "    vertical_spacing=1, # One-wavelength spacing between vertical antenna elements\n",
    "    horizontal_spacing=1  # One-wavelength spacing between horizontal antenna elements\n",
    ")\n",
    "\n",
    "# ===========================\n",
    "# 4️⃣ Select Channel Model\n",
    "# ===========================\n",
    "if scenario == \"UMa\":\n",
    "  channel_model = UMa(carrier_frequency=carrier_frequency,\n",
    "                      o2i_model= \"low\",\n",
    "                      ut_array=ue_array,\n",
    "                      bs_array=bs_array,\n",
    "                      direction=\"downlink\")\n",
    "elif scenario == \"UMi\":\n",
    "  channel_model = UMi(carrier_frequency=carrier_frequency,\n",
    "                      o2i_model= \"low\",\n",
    "                      ut_array=ue_array,\n",
    "                      bs_array=bs_array,\n",
    "                      direction=\"downlink\")\n",
    "elif scenario == \"RMa\":\n",
    "  channel_model = RMa(carrier_frequency=carrier_frequency,\n",
    "                      o2i_model= \"low\",\n",
    "                      ut_array=ue_array,\n",
    "                      bs_array=bs_array,\n",
    "                      direction=\"downlink\")\n",
    "\n",
    "# ===========================\n",
    "# 5️⃣ Set 3GPP Scenario Parameters\n",
    "# ===========================\n",
    "pre_topology = sionna.phy.channel.set_3gpp_scenario_parameters(\n",
    "                      scenario=scenario.lower(),\n",
    "                      min_bs_ut_dist=min_bs_ut_dist,  # Minimum BS-UE distance in meters\n",
    "                      isd=ISD,  # Inter-Site Distance\n",
    "                      bs_height=bs_height,  # BS height in meters\n",
    "                      min_ut_height=ut_height,  # Minimum UE height in meters\n",
    "                      max_ut_height=ut_height,  # Maximum UE height in meters\n",
    "                      indoor_probability=0, # Probability of a UE to be indoor\n",
    "                      min_ut_velocity=UE_speed, # ! meter/sec\n",
    "                      max_ut_velocity=UE_speed)\n",
    "\n",
    "min_bs_ut_dist, isd, bs_height, min_ut_height, max_ut_height, indoor_probability, min_ut_velocity, max_ut_velocity = pre_topology"
   ],
   "metadata": {
    "id": "baAIylHJ62Fq",
    "ExecuteTime": {
     "end_time": "2025-09-17T18:29:49.247184Z",
     "start_time": "2025-09-17T18:29:49.213182Z"
    }
   },
   "outputs": [],
   "execution_count": 20
  },
  {
   "cell_type": "markdown",
   "source": [
    "## **Channel generation**"
   ],
   "metadata": {
    "id": "t7InV93G7quP"
   }
  },
  {
   "cell_type": "code",
   "source": [
    "# ===========================\n",
    "# 6️⃣ Generate Single Sector Topology\n",
    "# ===========================\n",
    "topology = gen_single_sector_topology(\n",
    "                      batch_size=batch_size,\n",
    "                      num_ut=num_ue,\n",
    "                      isd=isd,\n",
    "                      min_bs_ut_dist=min_bs_ut_dist,\n",
    "                      scenario=scenario.lower(),\n",
    "                      min_ut_height=min_ut_height,\n",
    "                      max_ut_height=max_ut_height,\n",
    "                      indoor_probability=indoor_probability,\n",
    "                      min_ut_velocity=min_ut_velocity,\n",
    "                      max_ut_velocity=max_ut_velocity)\n",
    "\n",
    "ut_loc, bs_loc, ut_orientations, bs_orientations, ut_velocities, in_state = topology\n",
    "\n",
    "# ===========================\n",
    "# 7️⃣ Set Topology into the Channel Model\n",
    "# ===========================\n",
    "channel_model.set_topology(\n",
    "    ut_loc,\n",
    "    bs_loc,\n",
    "    ut_orientations,\n",
    "    bs_orientations,\n",
    "    ut_velocities,\n",
    "    in_state,\n",
    "    los = False)# los=False=NLoS, los=True=LoS, None=LoS\n",
    "\n",
    "channel_model.show_topology()\n",
    "\n",
    "# ===========================\n",
    "# 8️⃣ Simulate Time-Domain Channel\n",
    "# ===========================\n",
    "a, tau = channel_model(num_time_samples=num_ofdm_symbols,sampling_frequency=sc_spacing)  # Get channel impulse response (CIR)\n",
    "\n",
    "# ===========================\n",
    "# 9️⃣ Move Channel from Time to Frequency Domain\n",
    "# ===========================\n",
    "subcarrier_freqs = subcarrier_frequencies(fft_size, sc_spacing)\n",
    "H_freq = cir_to_ofdm_channel(subcarrier_freqs, a, tau, normalize=True)  # Convert CIR to OFDM channel\n",
    "\n",
    "print(\"-----------------------------------------------------\")\n",
    "print(f\"Size of output frequency domain channel tensor:\\n batch_size = {H_freq.shape[0]} \\n UE number = {H_freq.shape[1]} \\n UE antenna number = {H_freq.shape[2]} \\n BS number = {H_freq.shape[3]} \\n BS antenna number = {H_freq.shape[4]} \\n number ofdm symbols = {H_freq.shape[5]} \\n Subcarriers number = {H_freq.shape[6]}\")\n",
    "print(\"*********** Successful channel generation ***********\")\n",
    "\n",
    "# ===========================\n",
    "# ✅ Output Results\n",
    "# ===========================\n",
    "H_freq = np.transpose(np.squeeze(H_freq),(3,2,4,1,0)) # Output channel tensor H=[N_tx x N_rx x N_sc x N_ue x N_batch]"
   ],
   "metadata": {
    "id": "554LQs4h71gY",
    "colab": {
     "base_uri": "https://localhost:8080/",
     "height": 662
    },
    "outputId": "7a1ee9f2-06bb-4279-ead8-c04ec9f6a8ce",
    "ExecuteTime": {
     "end_time": "2025-09-17T18:30:28.887559Z",
     "start_time": "2025-09-17T18:29:49.261187Z"
    }
   },
   "outputs": [
    {
     "name": "stdout",
     "output_type": "stream",
     "text": [
      "-----------------------------------------------------\n",
      "Size of output frequency domain channel tensor:\n",
      " batch_size = 40 \n",
      " UE number = 20 \n",
      " UE antenna number = 4 \n",
      " BS number = 1 \n",
      " BS antenna number = 64 \n",
      " number ofdm symbols = 1 \n",
      " Subcarriers number = 256\n",
      "*********** Successful channel generation ***********\n"
     ]
    },
    {
     "data": {
      "text/plain": [
       "<Figure size 640x480 with 1 Axes>"
      ],
      "image/png": "[encoded data removed]"
     },
     "metadata": {},
     "output_type": "display_data",
     "jetTransient": {
      "display_id": null
     }
    }
   ],
   "execution_count": 21
  },
  {
   "cell_type": "markdown",
   "source": [
    "![image.png](data:image/png;base64,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)"
   ],
   "metadata": {
    "id": "HqtujM7ACFhH"
   }
  },
  {
   "metadata": {},
   "cell_type": "markdown",
   "source": ""
  },
  {
   "cell_type": "markdown",
   "source": [
    "## **Save the channel tensor to '.mat' or '.npy' file**"
   ],
   "metadata": {
    "id": "qYIeZUHO9MRa"
   }
  },
  {
   "cell_type": "code",
   "source": [
    "# from scipy.io import savemat\n",
    "# savemat(f\"Sionna_3GPP_{scenario.upper()}_Channel.mat\", {'Hfrq': H_freq})\n",
    "# from google.colab import files\n",
    "# files.download(f\"Sionna_3GPP_{scenario.upper()}_Channel.mat\") # uncomment this to download the tensor"
   ],
   "metadata": {
    "id": "nP5NtFfF9Fkn",
    "colab": {
     "base_uri": "https://localhost:8080/",
     "height": 17
    },
    "outputId": "71c5c9a2-45da-4b46-94b0-af348771171c",
    "ExecuteTime": {
     "end_time": "2025-09-17T18:30:29.537387Z",
     "start_time": "2025-09-17T18:30:29.530386Z"
    }
   },
   "outputs": [],
   "execution_count": 22
  },
  {
   "cell_type": "markdown",
   "source": [
    "N_tx (BS antenna number) - Количество антенн на Базовой Станции, 32 после Такера\n",
    "\n",
    "N_rx (UE antenna number) - Количество антенн на Пользовательском Устройстве, 4\n",
    "\n",
    "N_subcarriers (Subcarriers number) - Количество поднесущих, 128 после Такера\n",
    "\n",
    "N_users (UE number) - Количество пользователей, 20\n",
    "\n",
    "N_batches (batch_size) - Количество батчей, 4\n",
    "\n",
    "каждое число имеет вид H[i,j,k,l,m] = a + bj = |H| * e^(jφ),где\n",
    "\n",
    "|H| (амплитуда) - ослабление сигнала на этой поднесущей\n",
    "\n",
    "φ (фаза) - фазовый сдвиг сигнала\n",
    "\n",
    "i - какая антенна BS передает\n",
    "\n",
    "j - какая антенна UE принимает\n",
    "\n",
    "k - на какой поднесущей частоте\n",
    "\n",
    "l - для какого пользователя\n",
    "\n",
    "m - в какой реализации канала"
   ],
   "metadata": {
    "id": "QIqoDtupJk_7"
   }
  },
  {
   "cell_type": "code",
   "source": "#pip install torchcfm --upgrade\n",
   "metadata": {
    "id": "OL_ko4XsXoMf",
    "ExecuteTime": {
     "end_time": "2025-09-17T18:30:29.613176Z",
     "start_time": "2025-09-17T18:30:29.597176Z"
    }
   },
   "outputs": [],
   "execution_count": 23
  },
  {
   "metadata": {
    "ExecuteTime": {
     "end_time": "2025-09-17T18:30:29.645180Z",
     "start_time": "2025-09-17T18:30:29.627178Z"
    }
   },
   "cell_type": "code",
   "source": "#pip install \"scipy==1.10.1\"",
   "outputs": [],
   "execution_count": 24
  },
  {
   "metadata": {
    "ExecuteTime": {
     "end_time": "2025-09-17T18:30:29.677183Z",
     "start_time": "2025-09-17T18:30:29.659181Z"
    }
   },
   "cell_type": "code",
   "source": [
    "import scipy, ot\n",
    "print('SciPy:', scipy.__version__); print('POT:', ot.__version__)"
   ],
   "outputs": [
    {
     "name": "stdout",
     "output_type": "stream",
     "text": [
      "SciPy: 1.10.1\n",
      "POT: 0.9.0\n"
     ]
    }
   ],
   "execution_count": 25
  },
  {
   "metadata": {
    "ExecuteTime": {
     "end_time": "2025-09-17T18:31:42.999994Z",
     "start_time": "2025-09-17T18:30:29.730824Z"
    }
   },
   "cell_type": "code",
   "source": [
    "# SVD-based feature extraction and statistics\n",
    "\n",
    "import numpy as np\n",
    "from collections import Counter\n",
    "\n",
    "try:\n",
    "    import torch\n",
    "except ImportError:\n",
    "    torch = None\n",
    "\n",
    "TAU_RANK_REL = 1e-3\n",
    "TAU_DEGEN_REL = 1e-4\n",
    "\n",
    "N_tx, N_rx, N_sc, N_users, N_batches = H_freq.shape\n",
    "min_dim = min(N_tx, N_rx)\n",
    "\n",
    "H_slices = H_freq.transpose(3, 4, 2, 0, 1)\n",
    "\n",
    "svd_U = np.zeros((N_users, N_batches, N_sc, N_tx, min_dim), dtype=np.complex64)\n",
    "svd_V = np.zeros((N_users, N_batches, N_sc, N_rx, min_dim), dtype=np.complex64)\n",
    "svd_S = np.zeros((N_users, N_batches, N_sc, min_dim), dtype=np.float32)\n",
    "# svd_rank = np.zeros((N_users, N_batches, N_sc), dtype=np.int16)\n",
    "\n",
    "# --- STATISTICS INITIALIZATION ---\n",
    "# rank_values = []\n",
    "# rank_counter = Counter()\n",
    "# degeneracy_counter = Counter()\n",
    "\n",
    "\n",
    "def _normalize_pair(u_col, v_col, eps=1e-8):\n",
    "    u_col = np.asarray(u_col, dtype=np.complex64).copy()\n",
    "    v_col = np.asarray(v_col, dtype=np.complex64).copy()\n",
    "    u_norm = np.linalg.norm(u_col)\n",
    "    if u_norm > eps:\n",
    "        u_col /= u_norm\n",
    "    v_norm = np.linalg.norm(v_col)\n",
    "    if v_norm > eps:\n",
    "        v_col /= v_norm\n",
    "    pivot_indices = np.where(np.abs(u_col) > eps)[0]\n",
    "    pivot_value = None\n",
    "    if pivot_indices.size:\n",
    "        pivot_value = u_col[pivot_indices[0]]\n",
    "    else:\n",
    "        pivot_indices = np.where(np.abs(v_col) > eps)[0]\n",
    "        if pivot_indices.size:\n",
    "            pivot_value = v_col[pivot_indices[0]]\n",
    "    if pivot_value is not None:\n",
    "        phase = np.exp(-1j * np.angle(pivot_value))\n",
    "        u_col *= phase\n",
    "        v_col *= phase\n",
    "    return u_col, v_col\n",
    "\n",
    "\n",
    "for u_idx in range(N_users):\n",
    "    for b_idx in range(N_batches):\n",
    "        for sc_idx in range(N_sc):\n",
    "            mat = H_slices[u_idx, b_idx, sc_idx]\n",
    "            U, S, Vh = np.linalg.svd(mat, full_matrices=False)\n",
    "            V = Vh.conj().T\n",
    "\n",
    "            for col in range(min_dim):\n",
    "                u_col, v_col = _normalize_pair(U[:, col], V[:, col])\n",
    "                U[:, col] = u_col\n",
    "                V[:, col] = v_col\n",
    "\n",
    "            svd_U[u_idx, b_idx, sc_idx] = U[:, :min_dim].astype(np.complex64)\n",
    "            svd_V[u_idx, b_idx, sc_idx] = V[:, :min_dim].astype(np.complex64)\n",
    "            svd_S[u_idx, b_idx, sc_idx] = S.astype(np.float32)\n",
    "\n",
    "            # --- STATISTICS CALCULATION BLOCK ---\n",
    "            # denom = S[0] if S.size else 0.0\n",
    "            # rel = S / (denom + 1e-12)\n",
    "            # effective_rank = int((rel > TAU_RANK_REL).sum())\n",
    "            # if effective_rank == 0 and S.size:\n",
    "            #     effective_rank = 1\n",
    "            # rank_values.append(effective_rank)\n",
    "            # rank_counter[effective_rank] += 1\n",
    "            # svd_rank[u_idx, b_idx, sc_idx] = effective_rank\n",
    "            #\n",
    "            # groups = []\n",
    "            # if S.size:\n",
    "            #     start = 0\n",
    "            #     for idx in range(S.size - 1):\n",
    "            #         gap = abs(S[idx] - S[idx + 1])\n",
    "            #         denom_gap = max(abs(S[idx]), 1e-12)\n",
    "            #         if gap / denom_gap > TAU_DEGEN_REL:\n",
    "            #             groups.append(idx - start + 1)\n",
    "            #             start = idx + 1\n",
    "            #     groups.append(S.size - start)\n",
    "            # else:\n",
    "            #     groups.append(0)\n",
    "            # for g in groups:\n",
    "            #     degeneracy_counter[g] += 1\n",
    "\n",
    "# --- STATISTICS AGGREGATION, PRINTING & STORAGE ---\n",
    "# rank_array = np.array(rank_values, dtype=np.int16)\n",
    "# if rank_array.size:\n",
    "#     rank_mode = rank_counter.most_common(1)[0]\n",
    "#     print(f\"Total matrices analysed: {rank_array.size}\")\n",
    "#     print(f\"Rank stats -> min: {rank_array.min()}, max: {rank_array.max()}, mean: {rank_array.mean():.2f}, median: {np.median(rank_array):.2f}\")\n",
    "#     print(f\"Most common rank: {rank_mode[0]} (count={rank_mode[1]})\")\n",
    "#     print(\"Rank histogram:\", {k: rank_counter[k] for k in sorted(rank_counter)})\n",
    "#     print(\"Degeneracy group size counts:\", {k: degeneracy_counter[k] for k in sorted(degeneracy_counter)})\n",
    "# else:\n",
    "#     print(\"No matrices processed for SVD statistics.\")\n",
    "#\n",
    "# svd_summary = {\n",
    "#     'tau_rank_rel': TAU_RANK_REL,\n",
    "#     'tau_degen_rel': TAU_DEGEN_REL,\n",
    "#     'rank_hist': dict(rank_counter),\n",
    "#     'degeneracy_hist': dict(degeneracy_counter),\n",
    "#     'rank_array': rank_array,\n",
    "# }\n",
    "\n",
    "print(\"Stored SVD factors with shapes:\")\n",
    "print(f\"U: {svd_U.shape}, V: {svd_V.shape}, Sigma: {svd_S.shape}\")\n",
    "\n",
    "K_TRUNC = min_dim  # Actually, they are ≈full-rank\n",
    "ALLOW_ZERO_PADDING = True  # set to False to require full rank for all samples\n",
    "\n",
    "num_samples = N_users * N_batches\n",
    "sequence_length = N_sc\n",
    "channels_per_mode = 4 * (N_tx + N_rx) + 1\n",
    "\n",
    "amp_u = np.zeros((num_samples, sequence_length, K_TRUNC, N_tx), dtype=np.float32)\n",
    "phase_u = np.zeros_like(amp_u)\n",
    "amp_v = np.zeros((num_samples, sequence_length, K_TRUNC, N_rx), dtype=np.float32)\n",
    "phase_v = np.zeros_like(amp_v)\n",
    "sigma_raw = np.zeros((num_samples, sequence_length, K_TRUNC), dtype=np.float32)\n",
    "sigma_valid = np.zeros_like(sigma_raw, dtype=bool)\n",
    "sample_short_rank = np.zeros(num_samples, dtype=bool)\n",
    "\n",
    "for u_idx in range(N_users):\n",
    "    for b_idx in range(N_batches):\n",
    "        sample_idx = u_idx * N_batches + b_idx\n",
    "        for sc_idx in range(N_sc):\n",
    "            singular_values = svd_S[u_idx, b_idx, sc_idx]\n",
    "            U_block = svd_U[u_idx, b_idx, sc_idx]\n",
    "            V_block = svd_V[u_idx, b_idx, sc_idx]\n",
    "            take = min(K_TRUNC, singular_values.size)\n",
    "            if take < K_TRUNC:\n",
    "                sample_short_rank[sample_idx] = True\n",
    "            if take == 0:\n",
    "                continue\n",
    "            amp_u[sample_idx, sc_idx, :take, :] = np.abs(U_block[:, :take].T)\n",
    "            phase_u[sample_idx, sc_idx, :take, :] = np.angle(U_block[:, :take].T)\n",
    "            amp_v[sample_idx, sc_idx, :take, :] = np.abs(V_block[:, :take].T)\n",
    "            phase_v[sample_idx, sc_idx, :take, :] = np.angle(V_block[:, :take].T)\n",
    "            sigma_raw[sample_idx, sc_idx, :take] = singular_values[:take]\n",
    "            sigma_valid[sample_idx, sc_idx, :take] = True\n",
    "\n",
    "if not ALLOW_ZERO_PADDING and sample_short_rank.any():\n",
    "    missing = int(sample_short_rank.sum())\n",
    "    raise ValueError(f\"K_TRUNC={K_TRUNC} exceeds the minimal rank for {missing} samples; set ALLOW_ZERO_PADDING=True or reduce K_TRUNC.\")\n",
    "\n",
    "sigma_values = sigma_raw[sigma_valid]\n",
    "if sigma_values.size:\n",
    "    sigma_mean = float(sigma_values.mean())\n",
    "    sigma_std = float(sigma_values.std())\n",
    "else:\n",
    "    sigma_mean = 0.0\n",
    "    sigma_std = 1.0\n",
    "if sigma_std < 1e-12:\n",
    "    sigma_std = 1.0\n",
    "sigma_z = np.zeros_like(sigma_raw, dtype=np.float32)\n",
    "if sigma_values.size:\n",
    "    sigma_z[sigma_valid] = (sigma_raw[sigma_valid] - sigma_mean) / sigma_std\n",
    "sigma_padding_token = float((0.0 - sigma_mean) / sigma_std)\n",
    "sigma_z[~sigma_valid] = sigma_padding_token\n",
    "\n",
    "\n",
    "def _flatten_feature_block(arr):\n",
    "    arr = arr.transpose(0, 2, 3, 1)\n",
    "    batch, modes, features, seq = arr.shape\n",
    "    return arr.reshape(batch, modes * features, seq)\n",
    "\n",
    "amp_u_block = _flatten_feature_block(amp_u)\n",
    "phase_u_block = _flatten_feature_block(phase_u)\n",
    "amp_v_block = _flatten_feature_block(amp_v)\n",
    "phase_v_block = _flatten_feature_block(phase_v)\n",
    "sigma_block = _flatten_feature_block(sigma_z[..., None])\n",
    "\n",
    "data_features = np.concatenate(\n",
    "    [amp_u_block, phase_u_block, amp_v_block, phase_v_block, sigma_block],\n",
    "    axis=1,\n",
    ").astype(np.float32)\n",
    "\n",
    "feature_channels = data_features.shape[1]\n",
    "sequence_length = data_features.shape[2]\n",
    "\n",
    "padding_fraction = sample_short_rank.sum() / num_samples if num_samples else 0.0\n",
    "print(f\"Constructed feature tensor: samples={num_samples}, channels={feature_channels}, sequence_length={sequence_length}\")\n",
    "print(f\"K_TRUNC={K_TRUNC}, zero-padding enabled={ALLOW_ZERO_PADDING}, samples requiring padding={sample_short_rank.sum()} ({padding_fraction:.2%})\")\n",
    "print(f\"Singular value normalization: mean={sigma_mean:.4f}, std={sigma_std:.4f}, padding token={sigma_padding_token:.4f}\")\n",
    "\n",
    "svd_feature_metadata = {\n",
    "    'K_TRUNC': K_TRUNC,\n",
    "    'ALLOW_ZERO_PADDING': ALLOW_ZERO_PADDING,\n",
    "    'sigma_mean': sigma_mean,\n",
    "    'sigma_std': sigma_std,\n",
    "    'sigma_padding_token': sigma_padding_token,\n",
    "    'N_tx': N_tx,\n",
    "    'N_rx': N_rx,\n",
    "    'N_sc': N_sc,\n",
    "    'N_users': N_users,\n",
    "    'N_batches': N_batches,\n",
    "    'channels_per_mode': channels_per_mode,\n",
    "    'feature_channels': feature_channels,\n",
    "    'sequence_length': sequence_length,\n",
    "    'tau_rank_rel': TAU_RANK_REL,\n",
    "    'tau_degen_rel': TAU_DEGEN_REL,\n",
    "    'padding_fraction': padding_fraction,\n",
    "    # --- STATISTICS METADATA ---\n",
    "    # 'rank_hist': dict(rank_counter),\n",
    "    # 'degeneracy_hist': dict(degeneracy_counter),\n",
    "    # 'min_rank': int(rank_array.min()) if rank_array.size else 0,\n",
    "    # 'max_rank': int(rank_array.max()) if rank_array.size else 0,\n",
    "    # 'mean_rank': float(rank_array.mean()) if rank_array.size else 0.0,\n",
    "    # 'total_matrices': int(rank_array.size),\n",
    "}\n",
    "\n",
    "# svd_feature_metadata['svd_summary'] = svd_summary\n",
    "svd_feature_metadata['samples_requiring_padding'] = sample_short_rank.astype(np.bool_)\n",
    "\n",
    "feature_block_sizes = {\n",
    "    'amp_u': N_tx,\n",
    "    'phase_u': N_tx,\n",
    "    'amp_v': N_rx,\n",
    "    'phase_v': N_rx,\n",
    "    'sigma': 1,\n",
    "}\n",
    "svd_feature_metadata['block_sizes'] = feature_block_sizes\n",
    "\n",
    "\n",
    "def unpack_feature_tensor(feature_tensor, metadata, denormalize_sigma=False):\n",
    "    if torch is not None and isinstance(feature_tensor, torch.Tensor):\n",
    "        arr = feature_tensor.detach().cpu().numpy()\n",
    "    else:\n",
    "        arr = np.asarray(feature_tensor)\n",
    "    if arr.ndim != 3:\n",
    "        raise ValueError(f\"Expected feature tensor with 3 dims, got shape {arr.shape}\")\n",
    "    batch, channels, seq = arr.shape\n",
    "    K = metadata['K_TRUNC']\n",
    "    sizes = metadata['block_sizes']\n",
    "    offset = 0\n",
    "\n",
    "    def _extract(size):\n",
    "        nonlocal offset\n",
    "        block = arr[:, offset:offset + K * size, :]\n",
    "        offset += K * size\n",
    "        block = block.reshape(batch, K, size, seq).transpose(0, 3, 1, 2)\n",
    "        return block\n",
    "\n",
    "    amp_u_local = _extract(sizes['amp_u'])\n",
    "    phase_u_local = _extract(sizes['phase_u'])\n",
    "    amp_v_local = _extract(sizes['amp_v'])\n",
    "    phase_v_local = _extract(sizes['phase_v'])\n",
    "    sigma_block_local = _extract(sizes['sigma'])[..., 0]\n",
    "\n",
    "    sigma_z_local = sigma_block_local\n",
    "    sigma_local = sigma_z_local\n",
    "    if denormalize_sigma:\n",
    "        sigma_local = sigma_z_local * metadata['sigma_std'] + metadata['sigma_mean']\n",
    "        padding_mask = np.isclose(sigma_z_local, metadata['sigma_padding_token'], atol=1e-4)\n",
    "        sigma_local = np.where(padding_mask, 0.0, sigma_local)\n",
    "    return {\n",
    "        'amp_u': amp_u_local.astype(np.float32),\n",
    "        'phase_u': phase_u_local.astype(np.float32),\n",
    "        'amp_v': amp_v_local.astype(np.float32),\n",
    "        'phase_v': phase_v_local.astype(np.float32),\n",
    "        'sigma_z': sigma_z_local.astype(np.float32),\n",
    "        'sigma': sigma_local.astype(np.float32) if denormalize_sigma else None,\n",
    "    }\n",
    "\n",
    "\n",
    "def features_to_svd_components(feature_tensor, metadata, denormalize_sigma=True, enforce_unit_norm=True):\n",
    "    components = unpack_feature_tensor(feature_tensor, metadata, denormalize_sigma=denormalize_sigma)\n",
    "    amp_u_local = components['amp_u']\n",
    "    phase_u_local = components['phase_u']\n",
    "    amp_v_local = components['amp_v']\n",
    "    phase_v_local = components['phase_v']\n",
    "\n",
    "    U = amp_u_local * np.exp(1j * phase_u_local)\n",
    "    V = amp_v_local * np.exp(1j * phase_v_local)\n",
    "\n",
    "    if enforce_unit_norm:\n",
    "        eps = 1e-8\n",
    "        U = U / np.maximum(np.linalg.norm(U, axis=-1, keepdims=True), eps)\n",
    "        V = V / np.maximum(np.linalg.norm(V, axis=-1, keepdims=True), eps)\n",
    "\n",
    "    if denormalize_sigma:\n",
    "        sigma = components['sigma']\n",
    "        if sigma is None:\n",
    "            raise ValueError(\"Sigma values are not available; set denormalize_sigma=True in unpack_feature_tensor.\")\n",
    "    else:\n",
    "        sigma = components['sigma_z']\n",
    "    return {\n",
    "        'U': U.astype(np.complex64),\n",
    "        'V': V.astype(np.complex64),\n",
    "        'sigma': sigma.astype(np.float32),\n",
    "    }\n",
    "\n",
    "\n",
    "def reconstruct_channel_from_features(feature_tensor, metadata):\n",
    "    comps = features_to_svd_components(feature_tensor, metadata, denormalize_sigma=True, enforce_unit_norm=True)\n",
    "    U = comps['U']  # [B, seq, K, N_tx]\n",
    "    V = comps['V']  # [B, seq, K, N_rx]\n",
    "    sigma = np.clip(comps['sigma'], 0.0, None)  # [B, seq, K]\n",
    "    H_rec = np.einsum('bskn,bskm,bsk->bnms', U, np.conjugate(V), sigma, optimize=True)\n",
    "    return H_rec.astype(np.complex64)\n",
    "\n",
    "\n",
    "def flatten_feature_tensor_for_swd(feature_tensor, max_points=200_000, seed=0):\n",
    "    if torch is not None and isinstance(feature_tensor, torch.Tensor):\n",
    "        arr = feature_tensor.detach().cpu().numpy()\n",
    "    else:\n",
    "        arr = np.asarray(feature_tensor)\n",
    "    arr = np.transpose(arr, (0, 2, 1))  # [batch, seq, channels]\n",
    "    arr = arr.reshape(-1, arr.shape[-1])\n",
    "    total = arr.shape[0]\n",
    "    if max_points is not None and total > max_points:\n",
    "        rng = np.random.default_rng(seed)\n",
    "        idx = rng.choice(total, size=max_points, replace=False)\n",
    "        arr = arr[idx]\n",
    "    return arr.astype(np.float64)\n",
    "\n",
    "# Release intermediate arrays that are no longer needed\n",
    "del amp_u, phase_u, amp_v, phase_v, sigma_raw, sigma_valid, sigma_z, sample_short_rank\n"
   ],
   "outputs": [
    {
     "name": "stdout",
     "output_type": "stream",
     "text": [
      "Stored SVD factors with shapes:\n",
      "U: (20, 40, 256, 64, 4), V: (20, 40, 256, 4, 4), Sigma: (20, 40, 256, 4)\n",
      "Constructed feature tensor: samples=800, channels=548, sequence_length=256\n",
      "K_TRUNC=4, zero-padding enabled=True, samples requiring padding=0 (0.00%)\n",
      "Singular value normalization: mean=7.1398, std=3.6088, padding token=-1.9784\n"
     ]
    }
   ],
   "execution_count": 26
  },
  {
   "metadata": {
    "ExecuteTime": {
     "end_time": "2025-09-17T18:32:36.174802Z",
     "start_time": "2025-09-17T18:32:36.148800Z"
    }
   },
   "cell_type": "code",
   "source": [
    "import torch\n",
    "import torch.nn as nn\n",
    "\n",
    "\n",
    "class TimeCondConvNet1D(nn.Module):\n",
    "    def __init__(self, in_channels, base_dim=128, num_layers=4, kernel_size=5):\n",
    "        super().__init__()\n",
    "        assert num_layers >= 1, \"num_layers must be >= 1\"\n",
    "        self.in_channels = in_channels\n",
    "        self.base_dim = base_dim\n",
    "        self.kernel_size = kernel_size\n",
    "        self.time_embed = nn.Sequential(\n",
    "            nn.Linear(1, base_dim),\n",
    "            nn.SiLU(),\n",
    "            nn.Linear(base_dim, base_dim),\n",
    "            nn.SiLU(),\n",
    "        )\n",
    "\n",
    "        conv_blocks = []\n",
    "        for layer_idx in range(num_layers):\n",
    "            in_dim = base_dim if layer_idx > 0 else in_channels + base_dim\n",
    "            conv_blocks.append(\n",
    "                nn.Conv1d(\n",
    "                    in_dim,\n",
    "                    base_dim,\n",
    "                    kernel_size,\n",
    "                    padding=kernel_size // 2,\n",
    "                )\n",
    "            )\n",
    "            conv_blocks.append(nn.GroupNorm(8, base_dim))\n",
    "            conv_blocks.append(nn.SiLU())\n",
    "        conv_blocks.append(\n",
    "            nn.Conv1d(\n",
    "                base_dim,\n",
    "                in_channels,\n",
    "                kernel_size,\n",
    "                padding=kernel_size // 2,\n",
    "            )\n",
    "        )\n",
    "        self.net = nn.Sequential(*conv_blocks)\n",
    "\n",
    "    def forward(self, x, t):\n",
    "        # x: [B, C, L], t: [B] or [B, 1]\n",
    "        B, _, L = x.shape\n",
    "        if t.ndim == 1:\n",
    "            t = t[:, None]\n",
    "        t_embed = self.time_embed(t).unsqueeze(-1).expand(-1, -1, L)\n",
    "        x_in = torch.cat([x, t_embed], dim=1)\n",
    "        return self.net(x_in)\n",
    "\n",
    "\n",
    "class TimeCondMLP(nn.Module):\n",
    "    def __init__(self, in_channels, length, hidden_dim=512, num_layers=3):\n",
    "        super().__init__()\n",
    "        assert num_layers >= 1, \"num_layers must be >= 1\"\n",
    "        self.in_channels = in_channels\n",
    "        self.length = length\n",
    "        self.hidden_dim = hidden_dim\n",
    "        input_dim = in_channels * length\n",
    "\n",
    "        self.time_embed = nn.Sequential(\n",
    "            nn.Linear(1, hidden_dim),\n",
    "            nn.SiLU(),\n",
    "            nn.Linear(hidden_dim, hidden_dim),\n",
    "            nn.SiLU(),\n",
    "        )\n",
    "\n",
    "        layers = []\n",
    "        current_dim = input_dim + hidden_dim\n",
    "        for _ in range(num_layers):\n",
    "            layers.append(nn.Linear(current_dim, hidden_dim))\n",
    "            layers.append(nn.SiLU())\n",
    "            current_dim = hidden_dim\n",
    "        layers.append(nn.Linear(current_dim, input_dim))\n",
    "        self.net = nn.Sequential(*layers)\n",
    "\n",
    "    def forward(self, x, t):\n",
    "        B, C, L = x.shape\n",
    "        x_flat = x.view(B, C * L)\n",
    "        if t.ndim == 1:\n",
    "            t = t[:, None]\n",
    "        t_embed = self.time_embed(t)\n",
    "        x_in = torch.cat([x_flat, t_embed], dim=1)\n",
    "        out = self.net(x_in)\n",
    "        return out.view(B, C, L)\n",
    "\n",
    "\n",
    "DEFAULT_CONV_KWARGS = {'base_dim': 128, 'num_layers': 4, 'kernel_size': 5}\n",
    "DEFAULT_MLP_KWARGS = {'hidden_dim': 512, 'num_layers': 3}\n",
    "\n",
    "\n",
    "def build_model(model_type, in_channels, length, conv_kwargs=None, mlp_kwargs=None):\n",
    "    model_type = model_type.lower()\n",
    "    conv_params = DEFAULT_CONV_KWARGS.copy()\n",
    "    if conv_kwargs:\n",
    "        conv_params.update(conv_kwargs)\n",
    "    mlp_params = DEFAULT_MLP_KWARGS.copy()\n",
    "    if mlp_kwargs:\n",
    "        mlp_params.update(mlp_kwargs)\n",
    "    if model_type == 'conv1d':\n",
    "        return TimeCondConvNet1D(in_channels, **conv_params)\n",
    "    if model_type == 'mlp':\n",
    "        return TimeCondMLP(in_channels, length, **mlp_params)\n",
    "    raise ValueError(f\"Unsupported model_type='{model_type}'. Use 'conv1d' or 'mlp'.\")\n"
   ],
   "outputs": [],
   "execution_count": 34
  },
  {
   "metadata": {
    "ExecuteTime": {
     "end_time": "2025-09-17T18:32:38.188114Z",
     "start_time": "2025-09-17T18:32:38.179111Z"
    }
   },
   "cell_type": "code",
   "source": [
    "# Dataloader\n",
    "\n",
    "from torch.utils.data import DataLoader, TensorDataset\n",
    "import torch\n",
    "\n",
    "data_features_np = data_features.astype(np.float32, copy=False)\n",
    "data_tensor = torch.from_numpy(data_features_np)\n",
    "\n",
    "dataset = TensorDataset(data_tensor)\n",
    "dataloader = DataLoader(dataset, batch_size=8, shuffle=True, drop_last=True)\n",
    "\n",
    "feature_channels = data_tensor.shape[1]\n",
    "sequence_length = data_tensor.shape[2]\n",
    "\n",
    "print(f\"DataLoader ready with {len(dataloader)} batches; tensor shape={data_tensor.shape}\")\n"
   ],
   "outputs": [
    {
     "name": "stdout",
     "output_type": "stream",
     "text": [
      "DataLoader ready with 100 batches; tensor shape=torch.Size([800, 548, 256])\n"
     ]
    }
   ],
   "execution_count": 35
  },
  {
   "metadata": {
    "ExecuteTime": {
     "end_time": "2025-09-17T18:33:48.876891Z",
     "start_time": "2025-09-17T18:33:04.109785Z"
    }
   },
   "cell_type": "code",
   "source": [
    "# SB-CFM training\n",
    "\n",
    "import torch\n",
    "import torch.nn as nn\n",
    "from tqdm import tqdm\n",
    "\n",
    "device = torch.device('cuda' if torch.cuda.is_available() else 'cpu')\n",
    "print(\"Device:\", device)\n",
    "\n",
    "MODEL_TYPE = 'conv1d'  # 'conv1d' or 'mlp'\n",
    "CONV_MODEL_KWARGS = {'base_dim': 128, 'num_layers': 4, 'kernel_size': 5}\n",
    "MLP_MODEL_KWARGS = {'hidden_dim': 512, 'num_layers': 3}\n",
    "\n",
    "model = build_model(\n",
    "    MODEL_TYPE,\n",
    "    feature_channels,\n",
    "    sequence_length,\n",
    "    conv_kwargs=CONV_MODEL_KWARGS,\n",
    "    mlp_kwargs=MLP_MODEL_KWARGS,\n",
    ").to(device)\n",
    "print(f\"Model parameters: {sum(p.numel() for p in model.parameters() if p.requires_grad):,}\")\n",
    "\n",
    "try:\n",
    "    from torchcfm.conditional_flow_matching import SchrodingerBridgeConditionalFlowMatcher\n",
    "except Exception:\n",
    "    from torchcfm.losses import SchrodingerBridgeConditionalFlowMatcher\n",
    "\n",
    "cfm = SchrodingerBridgeConditionalFlowMatcher(sigma=0.5, ot_method=\"exact\")\n",
    "opt = torch.optim.AdamW(model.parameters(), lr=1e-4, weight_decay=1e-4)\n",
    "\n",
    "\n",
    "def _cfm_call_and_reshape(cfm_obj, x0, x1, t):\n",
    "    \"\"\"Helper to interface flattened tensors with CFM.\"\"\"\n",
    "    B = x1.shape[0]\n",
    "    x0_flat = x0.view(B, -1)\n",
    "    x1_flat = x1.view(B, -1)\n",
    "\n",
    "    try:\n",
    "        out = cfm_obj.sample_location_and_conditional_flow(x0_flat, x1_flat, t)\n",
    "    except AttributeError:\n",
    "        out = cfm_obj(x0_flat, x1_flat, t)\n",
    "\n",
    "    if isinstance(out, dict):\n",
    "        xt_flat = out.get(\"xt\", None)\n",
    "        ut_flat = out.get(\"ut\", None)\n",
    "        if xt_flat is None or ut_flat is None:\n",
    "            tensors = [v for v in out.values() if torch.is_tensor(v) and v.dim() == 2 and v.shape[0] == B]\n",
    "            xt_flat, ut_flat = tensors[0], tensors[1]\n",
    "    else:\n",
    "        seq = list(out) if isinstance(out, (tuple, list)) else [out]\n",
    "        tensors = [v for v in seq if torch.is_tensor(v) and v.dim() == 2 and v.shape[0] == B]\n",
    "        xt_flat, ut_flat = tensors[0], tensors[1]\n",
    "\n",
    "    xt = xt_flat.view_as(x1)\n",
    "    ut = ut_flat.view_as(x1)\n",
    "    return xt, ut\n",
    "\n",
    "\n",
    "num_epochs = 30\n",
    "model.train()\n",
    "for epoch in range(num_epochs):\n",
    "    total = 0.0\n",
    "    for (x1_batch,) in tqdm(dataloader, desc=f\"SB-CFM epoch {epoch+1}/{num_epochs}\"):\n",
    "        x1 = x1_batch.to(device)  # [B, C, L]\n",
    "        x0 = torch.randn_like(x1)\n",
    "        t = torch.rand(x1.size(0), device=device)\n",
    "\n",
    "        xt, ut = _cfm_call_and_reshape(cfm, x0, x1, t)\n",
    "        xt, ut = xt.to(device), ut.to(device)\n",
    "\n",
    "        pred = model(xt, t)\n",
    "        loss = nn.functional.mse_loss(pred, ut)\n",
    "\n",
    "        opt.zero_grad()\n",
    "        loss.backward()\n",
    "        torch.nn.utils.clip_grad_norm_(model.parameters(), max_norm=1.0)\n",
    "        opt.step()\n",
    "        total += loss.item()\n",
    "\n",
    "    print(f\"Epoch {epoch+1}: loss={total/len(dataloader):.6f}\")\n"
   ],
   "outputs": [
    {
     "name": "stdout",
     "output_type": "stream",
     "text": [
      "Device: cuda\n",
      "Model parameters: 1,047,972\n"
     ]
    },
    {
     "name": "stderr",
     "output_type": "stream",
     "text": [
      "SB-CFM epoch 1/30: 100%|██████████| 100/100 [00:01<00:00, 75.76it/s]\n"
     ]
    },
    {
     "name": "stdout",
     "output_type": "stream",
     "text": [
      "Epoch 1: loss=3.418091\n"
     ]
    },
    {
     "name": "stderr",
     "output_type": "stream",
     "text": [
      "SB-CFM epoch 2/30: 100%|██████████| 100/100 [00:01<00:00, 85.24it/s]\n"
     ]
    },
    {
     "name": "stdout",
     "output_type": "stream",
     "text": [
      "Epoch 2: loss=3.854512\n"
     ]
    },
    {
     "name": "stderr",
     "output_type": "stream",
     "text": [
      "SB-CFM epoch 3/30: 100%|██████████| 100/100 [00:01<00:00, 82.01it/s]\n"
     ]
    },
    {
     "name": "stdout",
     "output_type": "stream",
     "text": [
      "Epoch 3: loss=4.010671\n"
     ]
    },
    {
     "name": "stderr",
     "output_type": "stream",
     "text": [
      "SB-CFM epoch 4/30: 100%|██████████| 100/100 [00:01<00:00, 63.15it/s]\n"
     ]
    },
    {
     "name": "stdout",
     "output_type": "stream",
     "text": [
      "Epoch 4: loss=4.759688\n"
     ]
    },
    {
     "name": "stderr",
     "output_type": "stream",
     "text": [
      "SB-CFM epoch 5/30: 100%|██████████| 100/100 [00:01<00:00, 77.06it/s]\n"
     ]
    },
    {
     "name": "stdout",
     "output_type": "stream",
     "text": [
      "Epoch 5: loss=3.067898\n"
     ]
    },
    {
     "name": "stderr",
     "output_type": "stream",
     "text": [
      "SB-CFM epoch 6/30: 100%|██████████| 100/100 [00:01<00:00, 78.88it/s]\n"
     ]
    },
    {
     "name": "stdout",
     "output_type": "stream",
     "text": [
      "Epoch 6: loss=3.029385\n"
     ]
    },
    {
     "name": "stderr",
     "output_type": "stream",
     "text": [
      "SB-CFM epoch 7/30: 100%|██████████| 100/100 [00:01<00:00, 72.34it/s]\n"
     ]
    },
    {
     "name": "stdout",
     "output_type": "stream",
     "text": [
      "Epoch 7: loss=3.221875\n"
     ]
    },
    {
     "name": "stderr",
     "output_type": "stream",
     "text": [
      "SB-CFM epoch 8/30: 100%|██████████| 100/100 [00:01<00:00, 77.77it/s]\n"
     ]
    },
    {
     "name": "stdout",
     "output_type": "stream",
     "text": [
      "Epoch 8: loss=3.314903\n"
     ]
    },
    {
     "name": "stderr",
     "output_type": "stream",
     "text": [
      "SB-CFM epoch 9/30: 100%|██████████| 100/100 [00:01<00:00, 73.39it/s]\n"
     ]
    },
    {
     "name": "stdout",
     "output_type": "stream",
     "text": [
      "Epoch 9: loss=2.926112\n"
     ]
    },
    {
     "name": "stderr",
     "output_type": "stream",
     "text": [
      "SB-CFM epoch 10/30: 100%|██████████| 100/100 [00:01<00:00, 56.78it/s]\n"
     ]
    },
    {
     "name": "stdout",
     "output_type": "stream",
     "text": [
      "Epoch 10: loss=2.834590\n"
     ]
    },
    {
     "name": "stderr",
     "output_type": "stream",
     "text": [
      "SB-CFM epoch 11/30: 100%|██████████| 100/100 [00:01<00:00, 63.80it/s]\n"
     ]
    },
    {
     "name": "stdout",
     "output_type": "stream",
     "text": [
      "Epoch 11: loss=3.499526\n"
     ]
    },
    {
     "name": "stderr",
     "output_type": "stream",
     "text": [
      "SB-CFM epoch 12/30: 100%|██████████| 100/100 [00:01<00:00, 57.63it/s]\n"
     ]
    },
    {
     "name": "stdout",
     "output_type": "stream",
     "text": [
      "Epoch 12: loss=2.848635\n"
     ]
    },
    {
     "name": "stderr",
     "output_type": "stream",
     "text": [
      "SB-CFM epoch 13/30: 100%|██████████| 100/100 [00:01<00:00, 61.13it/s]\n"
     ]
    },
    {
     "name": "stdout",
     "output_type": "stream",
     "text": [
      "Epoch 13: loss=3.231141\n"
     ]
    },
    {
     "name": "stderr",
     "output_type": "stream",
     "text": [
      "SB-CFM epoch 14/30: 100%|██████████| 100/100 [00:01<00:00, 57.28it/s]\n"
     ]
    },
    {
     "name": "stdout",
     "output_type": "stream",
     "text": [
      "Epoch 14: loss=2.706971\n"
     ]
    },
    {
     "name": "stderr",
     "output_type": "stream",
     "text": [
      "SB-CFM epoch 15/30: 100%|██████████| 100/100 [00:01<00:00, 62.69it/s]\n"
     ]
    },
    {
     "name": "stdout",
     "output_type": "stream",
     "text": [
      "Epoch 15: loss=3.049768\n"
     ]
    },
    {
     "name": "stderr",
     "output_type": "stream",
     "text": [
      "SB-CFM epoch 16/30: 100%|██████████| 100/100 [00:01<00:00, 59.20it/s]\n"
     ]
    },
    {
     "name": "stdout",
     "output_type": "stream",
     "text": [
      "Epoch 16: loss=3.116337\n"
     ]
    },
    {
     "name": "stderr",
     "output_type": "stream",
     "text": [
      "SB-CFM epoch 17/30: 100%|██████████| 100/100 [00:01<00:00, 59.98it/s]\n"
     ]
    },
    {
     "name": "stdout",
     "output_type": "stream",
     "text": [
      "Epoch 17: loss=3.115716\n"
     ]
    },
    {
     "name": "stderr",
     "output_type": "stream",
     "text": [
      "SB-CFM epoch 18/30: 100%|██████████| 100/100 [00:01<00:00, 64.24it/s]\n"
     ]
    },
    {
     "name": "stdout",
     "output_type": "stream",
     "text": [
      "Epoch 18: loss=3.125094\n"
     ]
    },
    {
     "name": "stderr",
     "output_type": "stream",
     "text": [
      "SB-CFM epoch 19/30: 100%|██████████| 100/100 [00:01<00:00, 77.23it/s]\n"
     ]
    },
    {
     "name": "stdout",
     "output_type": "stream",
     "text": [
      "Epoch 19: loss=3.116492\n"
     ]
    },
    {
     "name": "stderr",
     "output_type": "stream",
     "text": [
      "SB-CFM epoch 20/30: 100%|██████████| 100/100 [00:01<00:00, 73.52it/s]\n"
     ]
    },
    {
     "name": "stdout",
     "output_type": "stream",
     "text": [
      "Epoch 20: loss=2.746400\n"
     ]
    },
    {
     "name": "stderr",
     "output_type": "stream",
     "text": [
      "SB-CFM epoch 21/30: 100%|██████████| 100/100 [00:01<00:00, 70.08it/s]\n"
     ]
    },
    {
     "name": "stdout",
     "output_type": "stream",
     "text": [
      "Epoch 21: loss=2.930287\n"
     ]
    },
    {
     "name": "stderr",
     "output_type": "stream",
     "text": [
      "SB-CFM epoch 22/30: 100%|██████████| 100/100 [00:01<00:00, 74.37it/s]\n"
     ]
    },
    {
     "name": "stdout",
     "output_type": "stream",
     "text": [
      "Epoch 22: loss=3.454982\n"
     ]
    },
    {
     "name": "stderr",
     "output_type": "stream",
     "text": [
      "SB-CFM epoch 23/30: 100%|██████████| 100/100 [00:01<00:00, 73.35it/s]\n"
     ]
    },
    {
     "name": "stdout",
     "output_type": "stream",
     "text": [
      "Epoch 23: loss=3.666779\n"
     ]
    },
    {
     "name": "stderr",
     "output_type": "stream",
     "text": [
      "SB-CFM epoch 24/30: 100%|██████████| 100/100 [00:01<00:00, 70.81it/s]\n"
     ]
    },
    {
     "name": "stdout",
     "output_type": "stream",
     "text": [
      "Epoch 24: loss=3.158390\n"
     ]
    },
    {
     "name": "stderr",
     "output_type": "stream",
     "text": [
      "SB-CFM epoch 25/30: 100%|██████████| 100/100 [00:01<00:00, 69.06it/s]\n"
     ]
    },
    {
     "name": "stdout",
     "output_type": "stream",
     "text": [
      "Epoch 25: loss=2.720491\n"
     ]
    },
    {
     "name": "stderr",
     "output_type": "stream",
     "text": [
      "SB-CFM epoch 26/30: 100%|██████████| 100/100 [00:01<00:00, 80.75it/s]\n"
     ]
    },
    {
     "name": "stdout",
     "output_type": "stream",
     "text": [
      "Epoch 26: loss=2.840368\n"
     ]
    },
    {
     "name": "stderr",
     "output_type": "stream",
     "text": [
      "SB-CFM epoch 27/30: 100%|██████████| 100/100 [00:01<00:00, 66.99it/s]\n"
     ]
    },
    {
     "name": "stdout",
     "output_type": "stream",
     "text": [
      "Epoch 27: loss=2.772167\n"
     ]
    },
    {
     "name": "stderr",
     "output_type": "stream",
     "text": [
      "SB-CFM epoch 28/30: 100%|██████████| 100/100 [00:01<00:00, 54.31it/s]\n"
     ]
    },
    {
     "name": "stdout",
     "output_type": "stream",
     "text": [
      "Epoch 28: loss=2.608962\n"
     ]
    },
    {
     "name": "stderr",
     "output_type": "stream",
     "text": [
      "SB-CFM epoch 29/30: 100%|██████████| 100/100 [00:01<00:00, 56.94it/s]\n"
     ]
    },
    {
     "name": "stdout",
     "output_type": "stream",
     "text": [
      "Epoch 29: loss=3.718857\n"
     ]
    },
    {
     "name": "stderr",
     "output_type": "stream",
     "text": [
      "SB-CFM epoch 30/30: 100%|██████████| 100/100 [00:01<00:00, 57.02it/s]"
     ]
    },
    {
     "name": "stdout",
     "output_type": "stream",
     "text": [
      "Epoch 30: loss=2.778856\n"
     ]
    },
    {
     "name": "stderr",
     "output_type": "stream",
     "text": [
      "\n"
     ]
    }
   ],
   "execution_count": 37
  },
  {
   "metadata": {
    "ExecuteTime": {
     "end_time": "2025-09-17T18:33:53.230294Z",
     "start_time": "2025-09-17T18:33:52.811745Z"
    }
   },
   "cell_type": "code",
   "source": [
    "# Sampling SB-SDE & inverse reconstruction utilities\n",
    "\n",
    "import numpy as np\n",
    "\n",
    "\n",
    "@torch.no_grad()\n",
    "def sample_sb_sde(model, num_samples=10, steps=40, shape=(feature_channels, sequence_length),\n",
    "                  sde_sigma=0.2, schedule=\"const\", device='cpu'):\n",
    "    \"\"\"Euler-Maruyama sampler for SB-SDE in feature space.\"\"\"\n",
    "    model.eval()\n",
    "    x = torch.randn((num_samples,) + shape, device=device)\n",
    "    dt = 1.0 / steps\n",
    "\n",
    "    def g_of_t(t_scalar):\n",
    "        if schedule == \"const\":\n",
    "            return sde_sigma\n",
    "        if schedule == \"vp\":\n",
    "            return sde_sigma * float(np.cos(0.5 * np.pi * float(t_scalar)))\n",
    "        return sde_sigma\n",
    "\n",
    "    for k in range(steps):\n",
    "        t = torch.full((num_samples,), (k + 0.5) / steps, device=device)\n",
    "        v = model(x, t)\n",
    "        g = g_of_t((k + 0.5) / steps)\n",
    "        noise = torch.randn_like(x)\n",
    "        x = x + dt * v + (g * np.sqrt(dt)) * noise\n",
    "    return x  # [N, C, L]\n",
    "\n",
    "\n",
    "generated_features = sample_sb_sde(\n",
    "    model,\n",
    "    num_samples=100,\n",
    "    steps=4,\n",
    "    shape=(feature_channels, sequence_length),\n",
    "    sde_sigma=0.0,\n",
    "    device=device,\n",
    ")\n",
    "\n",
    "orig_feature_subset = data_tensor[:generated_features.shape[0]].to(device)\n",
    "generated_complex = reconstruct_channel_from_features(generated_features, svd_feature_metadata)\n",
    "original_complex = reconstruct_channel_from_features(orig_feature_subset, svd_feature_metadata)\n",
    "\n",
    "generated_features_cpu = generated_features.detach().cpu()\n",
    "orig_feature_subset_cpu = orig_feature_subset.detach().cpu()\n",
    "\n",
    "print(\"Generated feature tensor:\", generated_features.shape)\n",
    "print(\"Reconstructed complex channel from generated samples:\", generated_complex.shape)\n",
    "print(\"Reference complex channel tensor:\", original_complex.shape)\n"
   ],
   "outputs": [
    {
     "name": "stdout",
     "output_type": "stream",
     "text": [
      "Generated feature tensor: torch.Size([10, 548, 256])\n",
      "Reconstructed complex channel from generated samples: (10, 64, 4, 256)\n",
      "Reference complex channel tensor: (10, 64, 4, 256)\n"
     ]
    }
   ],
   "execution_count": 38
  },
  {
   "metadata": {
    "ExecuteTime": {
     "end_time": "2025-09-17T18:32:05.552206Z",
     "start_time": "2025-09-17T18:32:05.203173Z"
    }
   },
   "cell_type": "code",
   "source": [
    "# Metrics in feature space: sliced wasserstein and statistics\n",
    "\n",
    "import numpy as np\n",
    "import torch\n",
    "import ot\n",
    "from ot.sliced import sliced_wasserstein_distance\n",
    "\n",
    "orig_features_for_metrics = orig_feature_subset_cpu\n",
    "gen_features_for_metrics = generated_features_cpu\n",
    "\n",
    "X = flatten_feature_tensor_for_swd(orig_features_for_metrics, max_points=200000, seed=0)\n",
    "Y = flatten_feature_tensor_for_swd(gen_features_for_metrics, max_points=200000, seed=1)\n",
    "\n",
    "swd = sliced_wasserstein_distance(X, Y, n_projections=128, p=1, seed=42)\n",
    "print(f\"Sliced Wasserstein distance (feature space, W1): {swd:.6f}\")\n",
    "\n",
    "real_components = unpack_feature_tensor(orig_features_for_metrics, svd_feature_metadata, denormalize_sigma=True)\n",
    "gen_components = unpack_feature_tensor(gen_features_for_metrics, svd_feature_metadata, denormalize_sigma=True)\n",
    "\n",
    "\n",
    "def _print_stats(label, array):\n",
    "    vals = np.asarray(array).reshape(-1)\n",
    "    vals = vals[np.isfinite(vals)]\n",
    "    if vals.size:\n",
    "        print(f\"{label} -> mean={vals.mean():.4f}, std={vals.std():.4f}, min={vals.min():.4f}, max={vals.max():.4f}\")\n",
    "    else:\n",
    "        print(f\"{label} -> no valid entries\")\n",
    "\n",
    "\n",
    "sigma_real = real_components['sigma']\n",
    "sigma_gen = gen_components['sigma']\n",
    "sigma_real_masked = sigma_real[sigma_real > 0]\n",
    "sigma_gen_masked = sigma_gen[sigma_gen > 0]\n",
    "_print_stats(\"? (real, denormalized)\", sigma_real_masked)\n",
    "_print_stats(\"? (generated, denormalized)\", sigma_gen_masked)\n",
    "\n",
    "_print_stats(\"amp(U) real\", real_components['amp_u'])\n",
    "_print_stats(\"amp(U) generated\", gen_components['amp_u'])\n",
    "_print_stats(\"phase(U) real\", real_components['phase_u'])\n",
    "_print_stats(\"phase(U) generated\", gen_components['phase_u'])\n",
    "_print_stats(\"amp(V) real\", real_components['amp_v'])\n",
    "_print_stats(\"amp(V) generated\", gen_components['amp_v'])\n",
    "_print_stats(\"phase(V) real\", real_components['phase_v'])\n",
    "_print_stats(\"phase(V) generated\", gen_components['phase_v'])\n"
   ],
   "outputs": [
    {
     "name": "stdout",
     "output_type": "stream",
     "text": [
      "Sliced Wasserstein distance (feature space, W1): 0.221123\n",
      "? (real, denormalized) -> mean=7.0635, std=3.7559, min=1.0514, max=18.7113\n",
      "? (generated, denormalized) -> mean=7.7356, std=4.4058, min=0.0013, max=23.9341\n",
      "amp(U) real -> mean=0.1133, std=0.0527, min=0.0001, max=0.3927\n",
      "amp(U) generated -> mean=0.1103, std=0.9916, min=-4.6857, max=5.1836\n",
      "phase(U) real -> mean=-0.0103, std=1.7387, min=-3.1416, max=3.1416\n",
      "phase(U) generated -> mean=-0.0501, std=1.2163, min=-6.5107, max=6.0839\n",
      "amp(V) real -> mean=0.4567, std=0.2036, min=0.0055, max=0.9716\n",
      "amp(V) generated -> mean=0.4507, std=0.9934, min=-3.5883, max=4.4518\n",
      "phase(V) real -> mean=-0.0257, std=1.8266, min=-3.1416, max=3.1416\n",
      "phase(V) generated -> mean=0.0271, std=1.0552, min=-3.9792, max=4.4123\n"
     ]
    }
   ],
   "execution_count": 31
  },
  {
   "metadata": {
    "ExecuteTime": {
     "end_time": "2025-09-17T18:32:05.705220Z",
     "start_time": "2025-09-17T18:32:05.593210Z"
    }
   },
   "cell_type": "code",
   "source": [
    "# Save\n",
    "\n",
    "import torch\n",
    "\n",
    "save_path = 'channel_sbcfm_svd_features.pth'\n",
    "torch.save({\n",
    "    'model_state_dict': model.state_dict(),\n",
    "    'optimizer_state_dict': opt.state_dict(),\n",
    "    'feature_meta': svd_feature_metadata,\n",
    "    'model_type': MODEL_TYPE,\n",
    "    'conv_kwargs': CONV_MODEL_KWARGS,\n",
    "    'mlp_kwargs': MLP_MODEL_KWARGS,\n",
    "    # 'svd_summary': svd_summary,\n",
    "}, save_path)\n",
    "print(\"Saved to:\", save_path)\n",
    "\n",
    "ckpt = torch.load(save_path, map_location='cpu')\n",
    "MODEL_TYPE = ckpt.get('model_type', MODEL_TYPE)\n",
    "CONV_MODEL_KWARGS = ckpt.get('conv_kwargs', CONV_MODEL_KWARGS)\n",
    "MLP_MODEL_KWARGS = ckpt.get('mlp_kwargs', MLP_MODEL_KWARGS)\n",
    "model = build_model(\n",
    "    MODEL_TYPE,\n",
    "    feature_channels,\n",
    "    sequence_length,\n",
    "    conv_kwargs=CONV_MODEL_KWARGS,\n",
    "    mlp_kwargs=MLP_MODEL_KWARGS,\n",
    ").to(device)\n",
    "model.load_state_dict(ckpt['model_state_dict'])\n",
    "opt.load_state_dict(ckpt['optimizer_state_dict'])\n",
    "svd_feature_metadata = ckpt.get('feature_meta', svd_feature_metadata)\n",
    "# svd_summary = ckpt.get('svd_summary', svd_summary)\n",
    "print(\"Loaded model, optimizer, and metadata.\")\n"
   ],
   "outputs": [
    {
     "name": "stdout",
     "output_type": "stream",
     "text": [
      "Saved to: channel_sbcfm_svd_features.pth\n",
      "Loaded model, optimizer, and metadata.\n"
     ]
    }
   ],
   "execution_count": 32
  },
  {
   "metadata": {
    "ExecuteTime": {
     "end_time": "2025-09-17T18:37:22.557034Z",
     "start_time": "2025-09-17T18:34:59.833132Z"
    }
   },
   "cell_type": "code",
   "source": [
    "# NFE sweep: sigma std & sliced Wasserstein vs steps\n",
    "\n",
    "import numpy as np\n",
    "import torch\n",
    "import matplotlib.pyplot as plt\n",
    "from ot.sliced import sliced_wasserstein_distance\n",
    "\n",
    "\n",
    "def sweep_nfe_and_metrics(\n",
    "        steps_list=(5, 10, 20, 40, 80, 160),\n",
    "        num_samples=100,\n",
    "        shape=(feature_channels, sequence_length),\n",
    "        sde_sigma=0.0,\n",
    "        schedule=\"const\",\n",
    "        device='cpu',\n",
    "        max_points=200_000,\n",
    "        n_projections=128,\n",
    "        flatten_seed_real=0,\n",
    "        flatten_seed_gen=1,\n",
    "        verbose=True,\n",
    "):\n",
    "    real_flat = flatten_feature_tensor_for_swd(data_tensor, max_points=max_points, seed=flatten_seed_real)\n",
    "    real_sigma = unpack_feature_tensor(data_tensor, svd_feature_metadata, denormalize_sigma=True)['sigma']\n",
    "    real_sigma_vals = real_sigma[real_sigma > 0]\n",
    "    target_sigma_std = float(real_sigma_vals.std()) if real_sigma_vals.size else 0.0\n",
    "\n",
    "    sigma_stds, swds = [], []\n",
    "    for steps in steps_list:\n",
    "        gen_features = sample_sb_sde(\n",
    "            model,\n",
    "            num_samples=num_samples,\n",
    "            steps=steps,\n",
    "            shape=shape,\n",
    "            sde_sigma=sde_sigma,\n",
    "            schedule=schedule,\n",
    "            device=device,\n",
    "        ).cpu()\n",
    "\n",
    "        gen_flat = flatten_feature_tensor_for_swd(gen_features, max_points=max_points, seed=flatten_seed_gen)\n",
    "        swd = float(sliced_wasserstein_distance(real_flat, gen_flat, n_projections=n_projections, p=1, seed=42))\n",
    "\n",
    "        gen_sigma = unpack_feature_tensor(gen_features, svd_feature_metadata, denormalize_sigma=True)['sigma']\n",
    "        gen_sigma_vals = gen_sigma[gen_sigma > 0]\n",
    "        sigma_std = float(gen_sigma_vals.std()) if gen_sigma_vals.size else 0.0\n",
    "\n",
    "        sigma_stds.append(sigma_std)\n",
    "        swds.append(swd)\n",
    "        if verbose:\n",
    "            print(f\"NFE={steps:4d} | sigma std={sigma_std:.4f} (target {target_sigma_std:.4f}) | SWD={swd:.6f}\")\n",
    "\n",
    "    return np.asarray(steps_list), np.asarray(sigma_stds), np.asarray(swds)\n",
    "\n",
    "\n",
    "steps_list, sigma_stds, swds = sweep_nfe_and_metrics(\n",
    "    steps_list=[1, 2, 3, 5, 7, 10, 20, 40],\n",
    "    num_samples=100,\n",
    "    shape=(feature_channels, sequence_length),\n",
    "    sde_sigma=0.0,\n",
    "    schedule=\"const\",\n",
    "    device=device,\n",
    "    max_points=200_000,\n",
    "    n_projections=128,\n",
    "    verbose=True,\n",
    ")\n",
    "\n",
    "plt.figure()\n",
    "plt.plot(steps_list, sigma_stds, marker='o', label='sigma std (denormalized)')\n",
    "plt.xlabel('NFE (steps)')\n",
    "plt.ylabel('sigma std')\n",
    "plt.title('Singular value std vs NFE')\n",
    "plt.grid(True, linestyle='--', alpha=0.4)\n",
    "plt.legend()\n",
    "\n",
    "plt.figure()\n",
    "plt.plot(steps_list, swds, marker='o', label='Sliced Wasserstein W1')\n",
    "plt.xlabel('NFE (steps)')\n",
    "plt.ylabel('SWD')\n",
    "plt.title('Sliced Wasserstein vs NFE')\n",
    "plt.grid(True, linestyle='--', alpha=0.4)\n",
    "plt.legend()\n",
    "\n",
    "plt.show()\n"
   ],
   "outputs": [
    {
     "name": "stdout",
     "output_type": "stream",
     "text": [
      "NFE=   1 | sigma std=4.3919 (target 3.6088) | SWD=0.165462\n",
      "NFE=   2 | sigma std=4.4143 (target 3.6088) | SWD=0.141036\n",
      "NFE=   3 | sigma std=4.4525 (target 3.6088) | SWD=0.134940\n",
      "NFE=   5 | sigma std=4.4527 (target 3.6088) | SWD=0.132564\n",
      "NFE=   7 | sigma std=4.4609 (target 3.6088) | SWD=0.132894\n",
      "NFE=  10 | sigma std=4.4744 (target 3.6088) | SWD=0.130314\n",
      "NFE=  20 | sigma std=4.4852 (target 3.6088) | SWD=0.133197\n",
      "NFE=  40 | sigma std=4.4950 (target 3.6088) | SWD=0.133235\n"
     ]
    },
    {
     "data": {
      "text/plain": [
       "<Figure size 640x480 with 1 Axes>"
      ],
      "image/png": "[encoded data removed]"
     },
     "metadata": {},
     "output_type": "display_data",
     "jetTransient": {
      "display_id": null
     }
    },
    {
     "data": {
      "text/plain": [
       "<Figure size 640x480 with 1 Axes>"
      ],
      "image/png": "[encoded data removed]"
     },
     "metadata": {},
     "output_type": "display_data",
     "jetTransient": {
      "display_id": null
     }
    }
   ],
   "execution_count": 39
  },
  {
   "metadata": {
    "ExecuteTime": {
     "end_time": "2025-09-17T18:32:16.485403300Z",
     "start_time": "2025-09-17T02:29:43.694254Z"
    }
   },
   "cell_type": "code",
   "source": "",
   "outputs": [],
   "execution_count": null
  }
 ]
}
